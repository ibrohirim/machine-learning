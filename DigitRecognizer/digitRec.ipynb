{
 "cells": [
  {
   "cell_type": "code",
   "execution_count": 17,
   "metadata": {
    "colab": {},
    "colab_type": "code",
    "executionInfo": {
     "elapsed": 893,
     "status": "ok",
     "timestamp": 1598056429424,
     "user": {
      "displayName": "Ibrahim Karmadzha",
      "photoUrl": "",
      "userId": "13762755296803783615"
     },
     "user_tz": 420
    },
    "id": "YLb-LVsnKlKz"
   },
   "outputs": [],
   "source": [
    "import pandas as pd\n",
    "import numpy as np\n",
    "from keras.models import Sequential\n",
    "from keras.layers import Conv2D, MaxPool2D, Dropout, InputLayer, Flatten, Dense\n",
    "from keras.utils.np_utils import to_categorical\n",
    "from tensorflow.keras.datasets import mnist"
   ]
  },
  {
   "cell_type": "code",
   "execution_count": 18,
   "metadata": {
    "colab": {},
    "colab_type": "code",
    "executionInfo": {
     "elapsed": 1393,
     "status": "ok",
     "timestamp": 1598056429934,
     "user": {
      "displayName": "Ibrahim Karmadzha",
      "photoUrl": "",
      "userId": "13762755296803783615"
     },
     "user_tz": 420
    },
    "id": "hhfwpRiQLBYh"
   },
   "outputs": [],
   "source": [
    "(x_train, y_train), (x_test, y_test) = mnist.load_data()\n",
    "y_train = to_categorical(y_train, 10)\n",
    "y_test = to_categorical(y_test, 10)\n"
   ]
  },
  {
   "cell_type": "code",
   "execution_count": 19,
   "metadata": {
    "colab": {
     "base_uri": "https://localhost:8080/",
     "height": 69
    },
    "colab_type": "code",
    "executionInfo": {
     "elapsed": 1388,
     "status": "ok",
     "timestamp": 1598056429936,
     "user": {
      "displayName": "Ibrahim Karmadzha",
      "photoUrl": "",
      "userId": "13762755296803783615"
     },
     "user_tz": 420
    },
    "id": "cRPfWWDdMLIb",
    "outputId": "524ba2aa-bcd8-4d94-ee5f-544652bd2767"
   },
   "outputs": [
    {
     "name": "stdout",
     "output_type": "stream",
     "text": [
      "(60000, 28, 28, 1)\n",
      "(10000, 28, 28, 1)\n",
      "(60000, 10)\n"
     ]
    }
   ],
   "source": [
    "x_train = np.expand_dims(x_train, -1)\n",
    "print(x_train.shape)\n",
    "x_test = np.expand_dims(x_test, -1)\n",
    "print(x_test.shape)\n",
    "\n",
    "print(y_train.shape)"
   ]
  },
  {
   "cell_type": "code",
   "execution_count": 21,
   "metadata": {
    "colab": {},
    "colab_type": "code",
    "executionInfo": {
     "elapsed": 1385,
     "status": "ok",
     "timestamp": 1598056429940,
     "user": {
      "displayName": "Ibrahim Karmadzha",
      "photoUrl": "",
      "userId": "13762755296803783615"
     },
     "user_tz": 420
    },
    "id": "iBKQABjaMVp2"
   },
   "outputs": [],
   "source": [
    "model = Sequential()\n",
    "\n",
    "model.add(Conv2D(32, kernel_size=(3, 3), activation='relu', input_shape=(28,28,1)))\n",
    "model.add(MaxPool2D(pool_size=(2,2)))\n",
    "model.add(Dropout(0.33))\n",
    "model.add(Conv2D(64, kernel_size=(3, 3), activation='relu'))\n",
    "model.add(MaxPool2D(pool_size=(2,2)))\n",
    "model.add(Conv2D(64, kernel_size=(3, 3), activation='relu'))\n",
    "model.add(MaxPool2D(pool_size=(2,2)))\n",
    "model.add(Flatten())\n",
    "model.add(Dropout(0.5))\n",
    "model.add(Dense(10, activation='softmax'))\n",
    "\n",
    "model.compile(loss='categorical_crossentropy', optimizer='adam', metrics=['accuracy'])"
   ]
  },
  {
   "cell_type": "code",
   "execution_count": 22,
   "metadata": {
    "colab": {
     "base_uri": "https://localhost:8080/",
     "height": 607
    },
    "colab_type": "code",
    "executionInfo": {
     "elapsed": 1379,
     "status": "ok",
     "timestamp": 1598056429941,
     "user": {
      "displayName": "Ibrahim Karmadzha",
      "photoUrl": "",
      "userId": "13762755296803783615"
     },
     "user_tz": 420
    },
    "id": "1U7Q6EEZPZ-Q",
    "outputId": "5004da05-7376-4f1e-b4c0-7958babc85f3"
   },
   "outputs": [
    {
     "name": "stdout",
     "output_type": "stream",
     "text": [
      "(60000, 10)\n",
      "Model: \"sequential_3\"\n",
      "_________________________________________________________________\n",
      "Layer (type)                 Output Shape              Param #   \n",
      "=================================================================\n",
      "conv2d_7 (Conv2D)            (None, 26, 26, 32)        320       \n",
      "_________________________________________________________________\n",
      "max_pooling2d_7 (MaxPooling2 (None, 13, 13, 32)        0         \n",
      "_________________________________________________________________\n",
      "dropout_5 (Dropout)          (None, 13, 13, 32)        0         \n",
      "_________________________________________________________________\n",
      "conv2d_8 (Conv2D)            (None, 11, 11, 64)        18496     \n",
      "_________________________________________________________________\n",
      "max_pooling2d_8 (MaxPooling2 (None, 5, 5, 64)          0         \n",
      "_________________________________________________________________\n",
      "conv2d_9 (Conv2D)            (None, 3, 3, 64)          36928     \n",
      "_________________________________________________________________\n",
      "max_pooling2d_9 (MaxPooling2 (None, 1, 1, 64)          0         \n",
      "_________________________________________________________________\n",
      "flatten_3 (Flatten)          (None, 64)                0         \n",
      "_________________________________________________________________\n",
      "dropout_6 (Dropout)          (None, 64)                0         \n",
      "_________________________________________________________________\n",
      "dense_6 (Dense)              (None, 10)                650       \n",
      "=================================================================\n",
      "Total params: 56,394\n",
      "Trainable params: 56,394\n",
      "Non-trainable params: 0\n",
      "_________________________________________________________________\n",
      "None\n"
     ]
    }
   ],
   "source": [
    "print(y_train.shape)\n",
    "print(model.summary())"
   ]
  },
  {
   "cell_type": "code",
   "execution_count": 23,
   "metadata": {
    "colab": {
     "base_uri": "https://localhost:8080/",
     "height": 940
    },
    "colab_type": "code",
    "executionInfo": {
     "elapsed": 276924,
     "status": "ok",
     "timestamp": 1598056705495,
     "user": {
      "displayName": "Ibrahim Karmadzha",
      "photoUrl": "",
      "userId": "13762755296803783615"
     },
     "user_tz": 420
    },
    "id": "oCyD5DsuOxXM",
    "outputId": "79cf4700-f47b-4136-ef21-f5915971993e"
   },
   "outputs": [
    {
     "name": "stdout",
     "output_type": "stream",
     "text": [
      "Train on 51000 samples, validate on 9000 samples\n",
      "Epoch 1/25\n",
      "51000/51000 [==============================] - 30s 593us/step - loss: 2.5016 - accuracy: 0.2707 - val_loss: 1.3149 - val_accuracy: 0.5844\n",
      "Epoch 2/25\n",
      "51000/51000 [==============================] - 30s 584us/step - loss: 1.4782 - accuracy: 0.4646 - val_loss: 0.6072 - val_accuracy: 0.8307\n",
      "Epoch 3/25\n",
      "51000/51000 [==============================] - 31s 600us/step - loss: 0.8464 - accuracy: 0.7207 - val_loss: 0.1996 - val_accuracy: 0.9477\n",
      "Epoch 4/25\n",
      "51000/51000 [==============================] - 31s 610us/step - loss: 0.5252 - accuracy: 0.8331 - val_loss: 0.1412 - val_accuracy: 0.9666\n",
      "Epoch 5/25\n",
      "51000/51000 [==============================] - 31s 600us/step - loss: 0.3967 - accuracy: 0.8777 - val_loss: 0.1059 - val_accuracy: 0.9727\n",
      "Epoch 6/25\n",
      "51000/51000 [==============================] - 31s 616us/step - loss: 0.3120 - accuracy: 0.9064 - val_loss: 0.0869 - val_accuracy: 0.9749\n",
      "Epoch 7/25\n",
      "51000/51000 [==============================] - 31s 616us/step - loss: 0.2615 - accuracy: 0.9204 - val_loss: 0.0912 - val_accuracy: 0.9756\n",
      "Epoch 8/25\n",
      "51000/51000 [==============================] - 31s 617us/step - loss: 0.2333 - accuracy: 0.9300 - val_loss: 0.0753 - val_accuracy: 0.9790\n",
      "Epoch 9/25\n",
      "51000/51000 [==============================] - 31s 616us/step - loss: 0.2050 - accuracy: 0.9395 - val_loss: 0.0769 - val_accuracy: 0.9790\n",
      "Epoch 10/25\n",
      "51000/51000 [==============================] - 33s 647us/step - loss: 0.1919 - accuracy: 0.9425 - val_loss: 0.0717 - val_accuracy: 0.9804\n",
      "Epoch 11/25\n",
      "51000/51000 [==============================] - 31s 606us/step - loss: 0.1762 - accuracy: 0.9472 - val_loss: 0.0641 - val_accuracy: 0.9833\n",
      "Epoch 12/25\n",
      "51000/51000 [==============================] - 33s 640us/step - loss: 0.1654 - accuracy: 0.9510 - val_loss: 0.0608 - val_accuracy: 0.9839\n",
      "Epoch 13/25\n",
      "51000/51000 [==============================] - 32s 623us/step - loss: 0.1514 - accuracy: 0.9533 - val_loss: 0.0581 - val_accuracy: 0.9856\n",
      "Epoch 14/25\n",
      "51000/51000 [==============================] - 33s 645us/step - loss: 0.1520 - accuracy: 0.9549 - val_loss: 0.0579 - val_accuracy: 0.9857\n",
      "Epoch 15/25\n",
      "51000/51000 [==============================] - 33s 651us/step - loss: 0.1388 - accuracy: 0.9583 - val_loss: 0.0667 - val_accuracy: 0.9818\n",
      "Epoch 16/25\n",
      "51000/51000 [==============================] - 33s 640us/step - loss: 0.1365 - accuracy: 0.9594 - val_loss: 0.0581 - val_accuracy: 0.9842\n",
      "Epoch 17/25\n",
      "51000/51000 [==============================] - 33s 641us/step - loss: 0.1295 - accuracy: 0.9611 - val_loss: 0.0518 - val_accuracy: 0.9860\n",
      "Epoch 18/25\n",
      "51000/51000 [==============================] - 33s 642us/step - loss: 0.1249 - accuracy: 0.9638 - val_loss: 0.0581 - val_accuracy: 0.9849\n",
      "Epoch 19/25\n",
      "51000/51000 [==============================] - 33s 638us/step - loss: 0.1208 - accuracy: 0.9642 - val_loss: 0.0574 - val_accuracy: 0.9854\n",
      "Epoch 20/25\n",
      "51000/51000 [==============================] - 33s 649us/step - loss: 0.1201 - accuracy: 0.9644 - val_loss: 0.0529 - val_accuracy: 0.9869\n",
      "Epoch 21/25\n",
      "51000/51000 [==============================] - 33s 639us/step - loss: 0.1123 - accuracy: 0.9671 - val_loss: 0.0497 - val_accuracy: 0.9871\n",
      "Epoch 22/25\n",
      "51000/51000 [==============================] - 33s 655us/step - loss: 0.1112 - accuracy: 0.9671 - val_loss: 0.0527 - val_accuracy: 0.9869\n",
      "Epoch 23/25\n",
      "51000/51000 [==============================] - 33s 650us/step - loss: 0.1128 - accuracy: 0.9653 - val_loss: 0.0615 - val_accuracy: 0.9852\n",
      "Epoch 24/25\n",
      "51000/51000 [==============================] - 33s 654us/step - loss: 0.1073 - accuracy: 0.9677 - val_loss: 0.0563 - val_accuracy: 0.9867\n",
      "Epoch 25/25\n",
      "51000/51000 [==============================] - 32s 628us/step - loss: 0.1071 - accuracy: 0.9678 - val_loss: 0.0540 - val_accuracy: 0.9861\n",
      "10000/10000 [==============================] - 2s 165us/step\n",
      "[0.051045501998580586, 0.9860000014305115]\n"
     ]
    }
   ],
   "source": [
    "batch_size = 128\n",
    "\n",
    "model.fit(x_train, y_train, batch_size=batch_size, epochs=25, validation_split=0.15)\n",
    "\n",
    "loss_and_metrics = model.evaluate(x_test, y_test)\n",
    "print(loss_and_metrics)\n"
   ]
  },
  {
   "cell_type": "code",
   "execution_count": 24,
   "metadata": {
    "colab": {
     "base_uri": "https://localhost:8080/",
     "height": 182
    },
    "colab_type": "code",
    "executionInfo": {
     "elapsed": 511,
     "status": "error",
     "timestamp": 1598056789716,
     "user": {
      "displayName": "Ibrahim Karmadzha",
      "photoUrl": "",
      "userId": "13762755296803783615"
     },
     "user_tz": 420
    },
    "id": "RGJSviY8aWRM",
    "outputId": "b2e5d473-1a06-4b95-c95e-5f2c00eb9c89"
   },
   "outputs": [],
   "source": [
    "model.save(\"./saved_model.h5\")"
   ]
  },
  {
   "cell_type": "code",
   "execution_count": null,
   "metadata": {
    "colab": {
     "base_uri": "https://localhost:8080/",
     "height": 34
    },
    "colab_type": "code",
    "executionInfo": {
     "elapsed": 1896,
     "status": "ok",
     "timestamp": 1598057739845,
     "user": {
      "displayName": "Ibrahim Karmadzha",
      "photoUrl": "",
      "userId": "13762755296803783615"
     },
     "user_tz": 420
    },
    "id": "tGH4Ia4BmkrI",
    "outputId": "150e159c-0b2e-4f33-8e37-c613deb2327c"
   },
   "outputs": [],
   "source": []
  }
 ],
 "metadata": {
  "accelerator": "GPU",
  "colab": {
   "authorship_tag": "ABX9TyNAuvMErtlL3iLtYTsjA9yj",
   "collapsed_sections": [],
   "mount_file_id": "1Tkkjkw2HkXKyMHtr4K-rkygDfJ-iiTTH",
   "name": "digitRec.ipynb",
   "provenance": []
  },
  "kernelspec": {
   "display_name": "Python 3",
   "language": "python",
   "name": "python3"
  },
  "language_info": {
   "codemirror_mode": {
    "name": "ipython",
    "version": 3
   },
   "file_extension": ".py",
   "mimetype": "text/x-python",
   "name": "python",
   "nbconvert_exporter": "python",
   "pygments_lexer": "ipython3",
   "version": "3.7.7"
  }
 },
 "nbformat": 4,
 "nbformat_minor": 1
}
